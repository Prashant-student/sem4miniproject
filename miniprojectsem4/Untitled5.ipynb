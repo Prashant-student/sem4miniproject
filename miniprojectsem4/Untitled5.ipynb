{
 "cells": [
  {
   "cell_type": "code",
   "execution_count": 55,
   "id": "headed-uzbekistan",
   "metadata": {},
   "outputs": [],
   "source": [
    "import joblib\n",
    "import pandas as pd\n",
    "import numpy as np\n",
    "import json\n",
    "model = joblib.load('finalized_model.sav')\n",
    "cols_when_model_builds = model.get_booster().feature_names"
   ]
  },
  {
   "cell_type": "code",
   "execution_count": 75,
   "id": "comparative-madrid",
   "metadata": {},
   "outputs": [],
   "source": [
    "def predict(j):\n",
    "    x= json.loads(j)\n",
    "    data = [0.0,0.0,0.0,0.0,0.0,0.0,0.0,0.0,0.0,0.0,0.0,0.0,0.0,0.0,0.0,0.0,0.0,1.0,0.0,0.0,0.0,1.0,0.0,1.0,0.0,0.0,0.0,0.0,0.0,3.0,409.0,749.0]\n",
    "    col=[0,1,2,3,4,5,6,7,8,9,10,11,12,13,14,15,16,17,18,19,20,21,22,23,24,25,26,27,28,29,30,31]\n",
    "    df = pd.DataFrame([data],columns = col)\n",
    "    CV_NAMES=['86032','91010','M 265','SNK-09293',\"PI 00-1110\",\"CO VSI 08005\"]\n",
    "    for i in range(0,6):\n",
    "        df[i][0]=(1 if (x[\"CV_NAME\"]==CV_NAMES[i]) else 0)\n",
    "    CROP_TYPE_NAMES=['R1','R2','PL']\n",
    "    for i in range(0,3):\n",
    "        df[i+6][0]=(1 if (x[\"CROP_TYPE_NAME\"]==CROP_TYPE_NAMES[i]) else 0)\n",
    "    CLUSTER_NAMES=['FACTORY-SW',\n",
    "'KULIGOD',\n",
    "'FACTORY EAST',\n",
    "'MUDHOL-NW',\n",
    "'RABAKAVI',\n",
    "'SHIRAGUPPI',\n",
    "'MUDALAGI',\n",
    "'MUDHOL EAST',\n",
    "'FACTORY-NW',\n",
    "'TERADAL',\n",
    "'MUDHOL-SE',\n",
    "'MUDHOL-SW',\n",
    "'BILAGI',\n",
    "\"FACTORY N\",  \n",
    "\"MAMADAPUR\",\n",
    "\"GHATAPRABHA\",\n",
    "\"YARAGATTI\",\n",
    "\"RABAKAVI N\",\n",
    "\"LOKAPUR\",\n",
    "\"KATARAKI\"]\n",
    "    for i in range(0,20):\n",
    "        df[i+9][0]=(1 if (x[\"CLUSTER_NAME\"]==CLUSTER_NAMES[i]) else 0)\n",
    "    df[29][0]=x[\"PLANT_AREA\"]\n",
    "    df[30][0]=x[\"AGE_IN_DAYS\"]\n",
    "    df[31][0]=x[\"DISPOSAL_TIME\"]\n",
    "    print(df)\n",
    "    print (model.predict_proba(df)[0][1]*100000)"
   ]
  },
  {
   "cell_type": "code",
   "execution_count": 76,
   "id": "constant-gardening",
   "metadata": {},
   "outputs": [
    {
     "name": "stdout",
     "output_type": "stream",
     "text": [
      "    0    1    2    3    4    5    6    7    8    9   ...   22   23   24   25  \\\n",
      "0  1.0  0.0  0.0  0.0  0.0  0.0  1.0  0.0  0.0  0.0  ...  0.0  0.0  0.0  0.0   \n",
      "\n",
      "    26   27   28   29     30     31  \n",
      "0  0.0  0.0  0.0  3.0  409.0  749.0  \n",
      "\n",
      "[1 rows x 32 columns]\n",
      "41497.82657623291\n"
     ]
    }
   ],
   "source": [
    "\n",
    "x =  '{\"CV_NAME\":\"86032\",\"CLUSTER_NAME\":\"SHIRAGUPPI\",\"PLANT_AREA\":3.0,\"CROP_TYPE_NAME\":\"R1\",\"AGE_IN_DAYS\":409,\"DISPOSAL_TIME\":749}'\n",
    "predict(x)"
   ]
  },
  {
   "cell_type": "code",
   "execution_count": null,
   "id": "southeast-identifier",
   "metadata": {},
   "outputs": [],
   "source": []
  }
 ],
 "metadata": {
  "kernelspec": {
   "display_name": "Python 3",
   "language": "python",
   "name": "python3"
  },
  "language_info": {
   "codemirror_mode": {
    "name": "ipython",
    "version": 3
   },
   "file_extension": ".py",
   "mimetype": "text/x-python",
   "name": "python",
   "nbconvert_exporter": "python",
   "pygments_lexer": "ipython3",
   "version": "3.9.2"
  }
 },
 "nbformat": 4,
 "nbformat_minor": 5
}
